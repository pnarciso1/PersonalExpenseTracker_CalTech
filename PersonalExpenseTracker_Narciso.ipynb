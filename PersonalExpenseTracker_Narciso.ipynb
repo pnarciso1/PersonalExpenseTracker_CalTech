{
 "cells": [
  {
   "cell_type": "code",
   "execution_count": 3,
   "id": "00026c55-05fa-41ea-906d-13e87b735a7d",
   "metadata": {},
   "outputs": [],
   "source": [
    "# Import necessary libraries.  \n",
    "\n",
    "import csv\n",
    "import os\n",
    "from datetime import datetime\n",
    "\n"
   ]
  },
  {
   "cell_type": "code",
   "execution_count": 4,
   "id": "9324dc8d-0916-4a14-95ac-c366e668777d",
   "metadata": {},
   "outputs": [],
   "source": [
    "# This defines the datamodel and createa  basic data structure\n",
    "\n",
    "# Setup the global variables\n",
    "expenses = [] #creates a list to store expenses\n",
    "monthly_budget = 0 #creates a variable to store monthly budget\n"
   ]
  },
  {
   "cell_type": "code",
   "execution_count": 19,
   "id": "2ff67253-3ca6-46e7-99fd-74eb699382c0",
   "metadata": {},
   "outputs": [],
   "source": [
    "# This is a function to add expenses\n",
    "\n",
    "def add_expenses():\n",
    "    \"\"\"\n",
    "    Prompt user to add expenses and \n",
    "    \"\"\"\n",
    "    print(\"\\n===== Add New Expenses =====\")\n",
    "    \"\"\"\n",
    "    Get data with validation\n",
    "    \"\"\"\n",
    "    while True:\n",
    "        date_str = input(\"Enter date (YYYY-MM-DD): \")\n",
    "        try:\n",
    "            \"\"\"\n",
    "            validate data format\n",
    "            \"\"\"\n",
    "            date_obj = datetime.strptime(date_str, \"%Y-%m-%d\")\n",
    "            date = date_obj.strftime(\"%Y-%m-%d\")  # Standardize format\n",
    "            break\n",
    "        except ValueError: \n",
    "            print(\"Invalid date format.  Please use (YYYY:MM:DD).\")\n",
    "\n",
    "    # get the user to select the category of the expneses\n",
    "    category = input(\"Please input category (ie. Food, Auto Expense, Lodging, etc.: \")\n",
    "\n",
    "    # get amount with validation\n",
    "    while True:\n",
    "        amount_str = input(\"Enter how much you spent: \")\n",
    "        try:\n",
    "            amount = float(amount_str)\n",
    "            if amount <= 0:\n",
    "                print(\"Dollars spent must be greater than $0.\")\n",
    "                continue \n",
    "            break\n",
    "        except ValueError: \n",
    "            print(\"Invalid entry.  Please enter a dollar number.\")\n",
    "\n",
    "    # get description of expenses\n",
    "    description = input(\"Enter a brief description of the expense: \")\n",
    "\n",
    "    # create an expense dictionary\n",
    "    expense = {\n",
    "        'date': date,\n",
    "        'category': category,\n",
    "        'amount': amount,\n",
    "        'description': description\n",
    "    }\n",
    "    # add to expense list\n",
    "    expenses.append(expense)\n",
    "    print(\"Expenses added successfully!\")\n",
    "    \n",
    "    \n",
    "\n",
    "\n",
    "            \n",
    "\n"
   ]
  },
  {
   "cell_type": "code",
   "execution_count": 7,
   "id": "9266cc7a-e361-4aa6-8278-257d7becb4a6",
   "metadata": {},
   "outputs": [],
   "source": [
    "# This is a function to view all expenses\n",
    "\n",
    "def view_expenses():\n",
    "    \"\"\"\n",
    "    Display all expenses in a formatted table\n",
    "\n",
    "    \"\"\"\n",
    "    if not expenses:\n",
    "        print(\"\\nNo expenses recorded yet.\")\n",
    "        return\n",
    "\n",
    "    print(\"\\n=====Your Expenses=====\")\n",
    "    print(f\"{'Date':<12} {'Category':<15} {'Amount':<10} {'Description':<30}\")\n",
    "    print(\"-\" * 67)\n",
    "\n",
    "    for expense in expenses: \n",
    "        # Validate expense has all required fields\n",
    "        if all(key in expense for key in ['date', 'category', 'amount', 'description']):\n",
    "            print(f\"{expense['date']:<12} {expense['category']:<15} ${expense['amount']:<9.2f} {expense['description']:<30}\")\n",
    "        else:\n",
    "            print(f\"Warning: Incomplete expense entry found: {expense}\")\n",
    "    \n",
    "    # Display total\n",
    "    total = sum(expense['amount'] for expense in expenses if 'amount' in expense)\n",
    "    print(\"-\" * 67)\n",
    "    print(f\"Total expenses: ${total:.2f}\")\n",
    "    \n"
   ]
  },
  {
   "cell_type": "code",
   "execution_count": 8,
   "id": "d812e7fe-8ebc-4289-a505-a7de5b1e825b",
   "metadata": {},
   "outputs": [],
   "source": [
    "# This block implements budget functions\n",
    "\n",
    "def set_budget():\n",
    "    \"\"\"\n",
    "    Set the monthly budget.\n",
    "    \"\"\"\n",
    "    global monthly_budget\n",
    "    \n",
    "    print(\"\\n===== Set Monthly Budget =====\")\n",
    "    while True:\n",
    "        budget_str = input(\"Enter your monthly budget amount: \")\n",
    "        try:\n",
    "            budget = float(budget_str)\n",
    "            if budget <= 0:\n",
    "                print(\"Budget must be greater than zero.\")\n",
    "                continue\n",
    "            monthly_budget = budget\n",
    "            print(f\"Monthly budget set to ${monthly_budget:.2f}\")\n",
    "            break\n",
    "        except ValueError:\n",
    "            print(\"Invalid amount. Please enter a number.\")\n",
    "\n",
    "def track_budget():\n",
    "    \"\"\"\n",
    "    Compare total expenses against the monthly budget.\n",
    "    \"\"\"\n",
    "    global monthly_budget\n",
    "    \n",
    "    if monthly_budget == 0:\n",
    "        print(\"\\nNo monthly budget set. Please set a budget first.\")\n",
    "        set_budget()\n",
    "    \n",
    "    # Calculate total expenses\n",
    "    total_expenses = sum(expense['amount'] for expense in expenses if 'amount' in expense)\n",
    "    \n",
    "    print(\"\\n===== Budget Tracking =====\")\n",
    "    print(f\"Monthly Budget: ${monthly_budget:.2f}\")\n",
    "    print(f\"Total Expenses: ${total_expenses:.2f}\")\n",
    "    \n",
    "    # Compare with budget\n",
    "    remaining = monthly_budget - total_expenses\n",
    "    if remaining >= 0:\n",
    "        print(f\"Remaining Budget: ${remaining:.2f}\")\n",
    "    else:\n",
    "        print(f\"Budget Exceeded by: ${abs(remaining):.2f}\")\n",
    "        print(\"Warning: You have exceeded your monthly budget!\")\n",
    "        "
   ]
  },
  {
   "cell_type": "code",
   "execution_count": 10,
   "id": "eb883996-7236-4a63-9aea-c0cc1328d923",
   "metadata": {},
   "outputs": [],
   "source": [
    "# Implement file operations\n",
    "\n",
    "def save_expenses():\n",
    "    \"\"\"\n",
    "    Save expenses to a CSV file.\n",
    "    \"\"\"\n",
    "    if not expenses:\n",
    "        print(\"\\nNo expenses to save.\")\n",
    "        return\n",
    "    \n",
    "    filename = \"expenses.csv\"\n",
    "    try:\n",
    "        with open(filename, 'w', newline='') as file:\n",
    "            writer = csv.DictWriter(file, fieldnames=['date', 'category', 'amount', 'description'])\n",
    "            writer.writeheader()\n",
    "            writer.writerows(expenses)\n",
    "        print(f\"\\nExpenses saved to {filename} successfully!\")\n",
    "    except Exception as e:\n",
    "        print(f\"\\nError saving expenses: {e}\")\n",
    "\n",
    "def load_expenses():\n",
    "    \"\"\"\n",
    "    Load expenses from a CSV file.\n",
    "    \"\"\"\n",
    "    global expenses\n",
    "    \n",
    "    filename = \"expenses.csv\"\n",
    "    if not os.path.exists(filename):\n",
    "        print(f\"\\nNo saved expenses file ({filename}) found.\")\n",
    "        return\n",
    "    \n",
    "    try:\n",
    "        with open(filename, 'r', newline='') as file:\n",
    "            reader = csv.DictReader(file)\n",
    "            # Convert loaded data - ensure amount is float\n",
    "            expenses = []\n",
    "            for row in reader:\n",
    "                row['amount'] = float(row['amount'])\n",
    "                expenses.append(row)\n",
    "        print(f\"\\nLoaded {len(expenses)} expenses from {filename}.\")\n",
    "    except Exception as e:\n",
    "        print(f\"\\nError loading expenses: {e}\")\n",
    "        "
   ]
  },
  {
   "cell_type": "code",
   "execution_count": 17,
   "id": "6647094c-df6d-4329-b7a1-c34f5d67bd73",
   "metadata": {},
   "outputs": [],
   "source": [
    "# Implement main menu functions\n",
    "\n",
    "def show_menu():\n",
    "    \"\"\"\n",
    "    Display the main menu and handle user selections.\n",
    "    \"\"\"\n",
    "    while True:\n",
    "        print(\"\\n===== Personal Expense Tracker =====\")\n",
    "        print(\"1. Add Expense\")\n",
    "        print(\"2. View Expenses\")\n",
    "        print(\"3. Set Monthly Budget\")\n",
    "        print(\"4. Track Budget\")\n",
    "        print(\"5. Save Expenses\")\n",
    "        print(\"6. Load Expenses\")\n",
    "        print(\"7. Exit\")\n",
    "        \n",
    "        choice = input(\"\\nEnter your choice (1-7): \")\n",
    "        \n",
    "        if choice == '1':\n",
    "            add_expenses()\n",
    "        elif choice == '2':\n",
    "            view_expenses()\n",
    "        elif choice == '3':\n",
    "            set_budget()\n",
    "        elif choice == '4':\n",
    "            track_budget()\n",
    "        elif choice == '5':\n",
    "            save_expenses()\n",
    "        elif choice == '6':\n",
    "            load_expenses()\n",
    "        elif choice == '7':\n",
    "            save_expenses()  # Auto-save before exit\n",
    "            print(\"\\nThank you for using Personal Expense Tracker. Goodbye!\")\n",
    "            break\n",
    "        else:\n",
    "            print(\"\\nInvalid choice. Please enter a number between 1 and 7.\")\n",
    "            \n",
    "            "
   ]
  },
  {
   "cell_type": "code",
   "execution_count": 20,
   "id": "f3f4be3f-8283-423b-bdc8-46cee1f1ba7e",
   "metadata": {},
   "outputs": [
    {
     "name": "stdout",
     "output_type": "stream",
     "text": [
      "\n",
      "No saved expenses file (expenses.csv) found.\n",
      "\n",
      "===== Personal Expense Tracker =====\n",
      "1. Add Expense\n",
      "2. View Expenses\n",
      "3. Set Monthly Budget\n",
      "4. Track Budget\n",
      "5. Save Expenses\n",
      "6. Load Expenses\n",
      "7. Exit\n"
     ]
    },
    {
     "name": "stdin",
     "output_type": "stream",
     "text": [
      "\n",
      "Enter your choice (1-7):  1\n"
     ]
    },
    {
     "name": "stdout",
     "output_type": "stream",
     "text": [
      "\n",
      "===== Add New Expenses =====\n"
     ]
    },
    {
     "name": "stdin",
     "output_type": "stream",
     "text": [
      "Enter date (YYYY:MM:DD):  2025:03:08\n"
     ]
    },
    {
     "name": "stdout",
     "output_type": "stream",
     "text": [
      "Invalid date format.  Please use (YYYY:MM:DD).\n"
     ]
    },
    {
     "name": "stdin",
     "output_type": "stream",
     "text": [
      "Enter date (YYYY:MM:DD):  2025:03:08\n"
     ]
    },
    {
     "name": "stdout",
     "output_type": "stream",
     "text": [
      "Invalid date format.  Please use (YYYY:MM:DD).\n"
     ]
    },
    {
     "name": "stdin",
     "output_type": "stream",
     "text": [
      "Enter date (YYYY:MM:DD):  2025-03-08\n",
      "Please input category (ie. Food, Auto Expense, Lodging, etc.:  Food\n",
      "Enter how much you spent:  200\n",
      "Enter a brief description of the expense:  dinner with Paul\n"
     ]
    },
    {
     "name": "stdout",
     "output_type": "stream",
     "text": [
      "Expenses added successfully!\n",
      "\n",
      "===== Personal Expense Tracker =====\n",
      "1. Add Expense\n",
      "2. View Expenses\n",
      "3. Set Monthly Budget\n",
      "4. Track Budget\n",
      "5. Save Expenses\n",
      "6. Load Expenses\n",
      "7. Exit\n"
     ]
    },
    {
     "name": "stdin",
     "output_type": "stream",
     "text": [
      "\n",
      "Enter your choice (1-7):  7\n"
     ]
    },
    {
     "name": "stdout",
     "output_type": "stream",
     "text": [
      "\n",
      "Expenses saved to expenses.csv successfully!\n",
      "\n",
      "Thank you for using Personal Expense Tracker. Goodbye!\n"
     ]
    }
   ],
   "source": [
    "# Create the main execution function\n",
    "\n",
    "def main():\n",
    "    \"\"\"\n",
    "    Main function to initialize and run the expense tracker.\n",
    "    \"\"\"\n",
    "    # Try to load previously saved expenses\n",
    "    load_expenses()\n",
    "    \n",
    "    # Show the menu\n",
    "    show_menu()\n",
    "\n",
    "# Run the main function\n",
    "if __name__ == \"__main__\":\n",
    "    main()"
   ]
  },
  {
   "cell_type": "code",
   "execution_count": null,
   "id": "d850a2be-2dcf-480f-b041-5ba26855e3b3",
   "metadata": {},
   "outputs": [
    {
     "name": "stdout",
     "output_type": "stream",
     "text": [
      "\n",
      "Loaded 1 expenses from expenses.csv.\n",
      "\n",
      "===== Personal Expense Tracker =====\n",
      "1. Add Expense\n",
      "2. View Expenses\n",
      "3. Set Monthly Budget\n",
      "4. Track Budget\n",
      "5. Save Expenses\n",
      "6. Load Expenses\n",
      "7. Exit\n"
     ]
    }
   ],
   "source": [
    "main()\n",
    "\n"
   ]
  },
  {
   "cell_type": "code",
   "execution_count": null,
   "id": "3ddbf582-52a6-4715-9406-5a4d54332f3b",
   "metadata": {},
   "outputs": [],
   "source": []
  }
 ],
 "metadata": {
  "kernelspec": {
   "display_name": "Python 3 (ipykernel)",
   "language": "python",
   "name": "python3"
  },
  "language_info": {
   "codemirror_mode": {
    "name": "ipython",
    "version": 3
   },
   "file_extension": ".py",
   "mimetype": "text/x-python",
   "name": "python",
   "nbconvert_exporter": "python",
   "pygments_lexer": "ipython3",
   "version": "3.12.2"
  }
 },
 "nbformat": 4,
 "nbformat_minor": 5
}
